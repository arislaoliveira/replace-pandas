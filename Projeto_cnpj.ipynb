{
  "nbformat": 4,
  "nbformat_minor": 0,
  "metadata": {
    "colab": {
      "provenance": [],
      "authorship_tag": "ABX9TyN5Iluey7udBZBHtT0rkU5C",
      "include_colab_link": true
    },
    "kernelspec": {
      "name": "python3",
      "display_name": "Python 3"
    },
    "language_info": {
      "name": "python"
    }
  },
  "cells": [
    {
      "cell_type": "markdown",
      "metadata": {
        "id": "view-in-github",
        "colab_type": "text"
      },
      "source": [
        "<a href=\"https://colab.research.google.com/github/arislaoliveira/replace-pandas/blob/main/Projeto_cnpj.ipynb\" target=\"_parent\"><img src=\"https://colab.research.google.com/assets/colab-badge.svg\" alt=\"Open In Colab\"/></a>"
      ]
    },
    {
      "cell_type": "code",
      "execution_count": 1,
      "metadata": {
        "colab": {
          "base_uri": "https://localhost:8080/"
        },
        "id": "Gt3Xl41Zp6-b",
        "outputId": "620bcee1-bc44-4bc2-c63f-7eb35e6fa2d5"
      },
      "outputs": [
        {
          "output_type": "stream",
          "name": "stdout",
          "text": [
            "Hello World!\n"
          ]
        }
      ],
      "source": [
        "print('Hello World!')"
      ]
    },
    {
      "cell_type": "code",
      "source": [
        "import pandas as pd\n",
        "\n",
        "#Alterar o que está após a aspa para o nome do arquivo\n",
        "#data_df = pd.read_csv('nome-arquivo.csv')\n",
        "data_df = pd.read_csv('part-00000-4a8dbf45-0c1a-45f8-b49c-989c5efab015-c000.csv', sep=';')"
      ],
      "metadata": {
        "id": "NNTVkbGYqEqd"
      },
      "execution_count": 35,
      "outputs": []
    },
    {
      "cell_type": "code",
      "source": [
        "#CREDENCIADORA\n",
        "data_df['CNPJCreddrSub'] = data_df['CNPJCreddrSub'].replace([1027058000191, 10440482000154, 1425787000104], ['Cielo', 'GetNet', 'Rede'])\n",
        "\n",
        "#CLIENTES\n",
        "data_df['CNPJCPFUsuFinalRecbdr'] = data_df['CNPJCPFUsuFinalRecbdr'].replace([39821358000110, 9106838001020, 48505425000189, 50178866000165, 50586799000118], ['Emp—rio Mil‹o', 'Fly Shopping', 'Giotto', 'Pisolandia', 'LC2'])"
      ],
      "metadata": {
        "id": "SzXpSERm00CN"
      },
      "execution_count": 36,
      "outputs": []
    },
    {
      "cell_type": "code",
      "source": [
        "data_df.to_excel(\"planilha_atualizada.xlsx\", sheet_name='Planilha Atualizada', index = False)"
      ],
      "metadata": {
        "id": "F_TFcyNByleD"
      },
      "execution_count": 37,
      "outputs": []
    }
  ]
}